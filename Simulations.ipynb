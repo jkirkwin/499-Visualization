{
 "cells": [
  {
   "cell_type": "markdown",
   "id": "4d48594b",
   "metadata": {},
   "source": [
    "# Simulation Modelling"
   ]
  },
  {
   "cell_type": "code",
   "execution_count": 70,
   "id": "74de399b",
   "metadata": {},
   "outputs": [],
   "source": [
    "%run LogFileProcessing.ipynb"
   ]
  },
  {
   "cell_type": "markdown",
   "id": "4317b55b",
   "metadata": {},
   "source": [
    "## Conversion Helpers"
   ]
  },
  {
   "cell_type": "code",
   "execution_count": 71,
   "id": "89a88422",
   "metadata": {},
   "outputs": [],
   "source": [
    "# Convert a string like 'Mbps' to its numerical value in bytes (e.g. Kbps -> 1000bps)\n",
    "def getMultiplierFromPrefix(s):\n",
    "    titleCaseString = s[0].upper() + s[1:].lower()\n",
    "    assert s in ['Bps', 'Kbps', 'Mbps', 'Gbps']\n",
    "    \n",
    "    if titleCaseString == 'Bps':\n",
    "        return 1\n",
    "    elif titleCaseString == 'Kbps':\n",
    "        return 1000\n",
    "    elif titleCaseString == 'Mbps':\n",
    "        return 1000000\n",
    "    else:\n",
    "        assert titleCaseString == 'Gbps' \n",
    "        return 1000000000\n",
    "\n",
    "\n",
    "# Convert a bitrate string like 1Mbps to a bps measure\n",
    "def bpsRateFromString(rateString):\n",
    "    numericPart = rateString.strip(string.ascii_letters)\n",
    "    unitPart = rateString.strip(string.digits)\n",
    "    \n",
    "    assert rateString == numericPart + unitPart\n",
    "    \n",
    "    multiplier = getMultiplierFromPrefix(unitPart)\n",
    "    return int(numericPart) * multiplier\n",
    "\n",
    "\n",
    "# Convert a value in bps to a print-able string\n",
    "def bpsRateToString(rateNum):\n",
    "    val = 0\n",
    "    postfix = ''\n",
    "    if rateNum < 1000:\n",
    "        val = int(rateNum)\n",
    "        postfix = 'bps'\n",
    "    elif rateNum < 1000000:\n",
    "        val = int(rateNum / 1000)\n",
    "        postfix = 'Kbps'\n",
    "    else:\n",
    "        val = int(rateNum / 1000000)\n",
    "        postfix = 'Mbps'\n",
    "    return str(val) + postfix"
   ]
  },
  {
   "cell_type": "code",
   "execution_count": 72,
   "id": "90b5a5d1",
   "metadata": {},
   "outputs": [
    {
     "name": "stdout",
     "output_type": "stream",
     "text": [
      "999\n",
      "2000\n",
      "1000000\n"
     ]
    }
   ],
   "source": [
    "print (bpsRateFromString('999Bps'))\n",
    "print (bpsRateFromString('2Kbps'))\n",
    "print (bpsRateFromString('1Mbps'))"
   ]
  },
  {
   "cell_type": "markdown",
   "id": "021ffb65",
   "metadata": {},
   "source": [
    "## Simulation Class Definition and Helpers"
   ]
  },
  {
   "cell_type": "code",
   "execution_count": 13,
   "id": "8338b553",
   "metadata": {},
   "outputs": [],
   "source": [
    "def isSimulationDirectory(parentDir):\n",
    "    # Assume that if one log file exists, so do the others\n",
    "    return \"cl0_adaptationLog.txt\" in os.listdir(parentDir)"
   ]
  },
  {
   "cell_type": "code",
   "execution_count": 81,
   "id": "5aabd3be",
   "metadata": {},
   "outputs": [],
   "source": [
    "class Simulation:\n",
    "    \n",
    "    # Create a simulation object to represent the given directory\n",
    "    def __init__(self, dirPath):\n",
    "        self.path = dirPath\n",
    "        \n",
    "        relativePath = getRelativePath(dirPath)\n",
    "        params = relativePath.split('\\\\')\n",
    "\n",
    "        self.proto = params[0]\n",
    "        self.algo = params[1]\n",
    "        \n",
    "        self.rateStr = params[2]\n",
    "        self.rateVal = bpsRateFromString(self.rateStr)\n",
    "\n",
    "        if (hasError(dirPath)) :\n",
    "            self.errRate = float(params[3])\n",
    "            self.pacing = params[4] == 'pacing'\n",
    "        else:\n",
    "            self.errRate = 0\n",
    "            self.pacing = params[3] == 'pacing'\n",
    "    \n",
    "    \n",
    "    def getErrorPercent(self):\n",
    "        return self.errRate * 100\n",
    "    \n",
    "    \n",
    "    # Return the number of successfully-downloaded segments\n",
    "    def countSegments(self):\n",
    "        _, rows = readDownloadLog(self.path)\n",
    "        return len(rows)\n",
    "    \n",
    "    \n",
    "    def duration(self):\n",
    "        return self.countSegments() * 2\n",
    "    \n",
    "    \n",
    "    # Implement the less-than operator so we can sort\n",
    "    def __lt__(self, other):\n",
    "        if self.proto < other.proto:\n",
    "            return True\n",
    "        elif other.proto < self.proto:\n",
    "            return False\n",
    "\n",
    "        if self.algo < other.algo:\n",
    "            return True\n",
    "        elif other.algo < self.algo:\n",
    "            return False\n",
    "\n",
    "        if self.rateVal != other.rateVal:\n",
    "            return self.rateVal < other.rateVal\n",
    "\n",
    "        if self.errRate != other.errRate:\n",
    "            return self.errRate < other.errRate\n",
    "\n",
    "        if self.pacing == other.pacing:\n",
    "            return False # Equal\n",
    "        elif self.pacing:\n",
    "            return True\n",
    "        else:\n",
    "            return False"
   ]
  },
  {
   "cell_type": "code",
   "execution_count": 83,
   "id": "85a1501b",
   "metadata": {},
   "outputs": [
    {
     "name": "stdout",
     "output_type": "stream",
     "text": [
      "QUIC with loss sample\n",
      "C:\\Users\\Jamie\\Documents\\UVic\\4th Year\\Fall 2021\\CSC 499 - QUIC\\jupyter-csc499\\499-Visualization\\data\\benchmarking-loss\\TCP\\festive\\2Mbps\\0.05\\no-pacing\\\n",
      "TCP | festive | 2Mbps (2000000bps) | 5.0% loss | no pacing\n"
     ]
    }
   ],
   "source": [
    "# Print out all of the simulation's data (for testing)\n",
    "def printSimulation(simulation):\n",
    "#     print (simulation.path)\n",
    "    errStr = str(sim.getErrorPercent()) + '% loss' \n",
    "    pacingStr = 'pacing' if sim.pacing else \"no pacing\"\n",
    "    result = \"{} | {} | {} ({}bps) | {} | {}\".format(sim.proto, sim.algo, sim.rateStr, sim.rateVal, errStr, pacingStr)\n",
    "    print (result)\n",
    "\n",
    "\n",
    "print (\"QUIC with loss sample\")\n",
    "sim = Simulation(sampleTcpLossDir)\n",
    "print (sim.path)\n",
    "printSimulation (sim)"
   ]
  },
  {
   "cell_type": "code",
   "execution_count": 88,
   "id": "97640b34",
   "metadata": {},
   "outputs": [
    {
     "name": "stdout",
     "output_type": "stream",
     "text": [
      "444\n",
      "222\n"
     ]
    }
   ],
   "source": [
    "print(sim.duration())\n",
    "print(sim.countSegments())"
   ]
  },
  {
   "cell_type": "markdown",
   "id": "fe96a646",
   "metadata": {},
   "source": [
    "## Sample Simulations for Testing"
   ]
  },
  {
   "cell_type": "code",
   "execution_count": 89,
   "id": "e56d5966",
   "metadata": {},
   "outputs": [],
   "source": [
    "sampleQuicSim = Simulation(sampleQuicDir)\n",
    "sampleSlowQuicSim = Simulation(sampleQuicDirSlow)\n",
    "sampleLossyQuicSim = Simulation(sampleQuicLossDir)\n",
    "\n",
    "sampleTcpSim = Simulation(sampleTcpDir)\n",
    "sampleSlowTcpSim = Simulation(sampleTcpDirSlow)\n",
    "sampleLossyTcpSim = Simulation(sampleTcpLossDir)"
   ]
  },
  {
   "cell_type": "markdown",
   "id": "b2b28832",
   "metadata": {},
   "source": [
    "## Enumerating Simulations"
   ]
  },
  {
   "cell_type": "code",
   "execution_count": 75,
   "id": "a87e9707",
   "metadata": {},
   "outputs": [],
   "source": [
    "# Some helpful predicates for enumerating certain types of simulations\n",
    "def isQuicSimulation(sim):\n",
    "    return sim.proto == 'QUIC'\n",
    "\n",
    "\n",
    "def isTcpSimulation(sim):\n",
    "    return not isQuicSimulation(sim)\n",
    "\n",
    "\n",
    "def quicSimulationHasNSegments(sim, n):\n",
    "    return isQuicSimulation(sim) and sim.countSegments() >= n"
   ]
  },
  {
   "cell_type": "code",
   "execution_count": 76,
   "id": "3e382fd1",
   "metadata": {},
   "outputs": [],
   "source": [
    "# Enumerate all simulations in any subdirectory of topDir \n",
    "# which satisfy the given predicate\n",
    "def findSimulations(topDir, pred):\n",
    "    simulations = []\n",
    "    for path, subdirs, files in os.walk(topDir):\n",
    "        path = path + '\\\\'\n",
    "        if isSimulationDirectory(path):\n",
    "            sim = Simulation(path)\n",
    "            if pred(sim):\n",
    "                simulations.append(sim)\n",
    "    \n",
    "    return sorted(simulations)\n",
    "\n",
    "\n",
    "# Enumerate all simulations in any subdirectory of topDir which ran until\n",
    "# at least minSegmentCount segments were downloaded by the client.\n",
    "def findSimulationsWithMinSegCount(topDir, minSegmentCount):\n",
    "    pred = lambda sim : quicSimulationHasNSegments(sim, minSegmentCount)\n",
    "    return findSimulations(topDir, pred)"
   ]
  },
  {
   "cell_type": "code",
   "execution_count": 77,
   "id": "e64ed03c",
   "metadata": {},
   "outputs": [
    {
     "name": "stdout",
     "output_type": "stream",
     "text": [
      "QUIC | festive | 1Mbps (1000000bps) | 0.0% loss | pacing\n",
      "QUIC | festive | 1Mbps (1000000bps) | 1.0% loss | no pacing\n",
      "QUIC | festive | 2Mbps (2000000bps) | 5.0% loss | no pacing\n",
      "QUIC | tobasco | 500Kbps (500000bps) | 1.0% loss | pacing\n",
      "QUIC | tobasco | 2Mbps (2000000bps) | 2.0% loss | pacing\n",
      "QUIC | tobasco | 3Mbps (3000000bps) | 2.0% loss | no pacing\n",
      "QUIC | tobasco | 3Mbps (3000000bps) | 5.0% loss | pacing\n",
      "QUIC | tobasco | 5Mbps (5000000bps) | 5.0% loss | no pacing\n"
     ]
    }
   ],
   "source": [
    "sims = findSimulationsWithMinSegCount(quicLossDir, 150)\n",
    "for sim in sims:\n",
    "    printSimulation(sim)"
   ]
  },
  {
   "cell_type": "code",
   "execution_count": 80,
   "id": "6249d27f",
   "metadata": {},
   "outputs": [],
   "source": [
    "def getTcpSimulationAnalog(quicSim):\n",
    "    tcpDir = findTcpAnalogPath(quicSim.path)\n",
    "    return Simulation(tcpDir)\n",
    "\n",
    "\n",
    "def getTcpSimulations(quicSimulations):\n",
    "    return [getTcpSimulationAnalog(sim) for sim in quicSimulations]\n",
    "\n",
    "\n",
    "# Enumerate (quic, tcp) pairs of simulations for which the given\n",
    "# predicate is satisfied\n",
    "def findSimulationPairs(topDir, pred):\n",
    "    # Enumerate all QUIC simulations that satisfy pred first,\n",
    "    # then find all the corresponding TCP ones.\n",
    "    quicOnlyPred = lambda sim : pred(sim) and isQuicSimulation(sim)\n",
    "    quicSimulations = findSimulations(topDir, pred)\n",
    "\n",
    "    tcpSimulations = getTcpSimulations(quicSimulations)\n",
    "\n",
    "    return zip(quicSimulations, tcpSimulations)"
   ]
  },
  {
   "cell_type": "markdown",
   "id": "87e773ba",
   "metadata": {},
   "source": [
    "## Simulation String Formatting"
   ]
  },
  {
   "cell_type": "code",
   "execution_count": 73,
   "id": "15cec5cb",
   "metadata": {},
   "outputs": [],
   "source": [
    "# Logic to format a file path into a nicer title string\n",
    "def getDescription(sim):\n",
    "    pacingStr = 'with pacing' if sim.pacing else \"no pacing\"\n",
    "    return \"{} over {} @ {} with {}% loss ({})\".format(sim.algo, sim.proto, sim.rateStr, sim.getErrorPercent(), pacingStr)"
   ]
  },
  {
   "cell_type": "code",
   "execution_count": 91,
   "id": "d4c77cd3",
   "metadata": {},
   "outputs": [
    {
     "name": "stdout",
     "output_type": "stream",
     "text": [
      "festive over QUIC @ 2Mbps with 0% loss (with pacing)\n",
      "festive over QUIC @ 2Mbps with 5.0% loss (no pacing)\n"
     ]
    }
   ],
   "source": [
    "print (getDescription(sampleQuicSim))\n",
    "print (getDescription(sampleLossyQuicSim))"
   ]
  }
 ],
 "metadata": {
  "kernelspec": {
   "display_name": "Python 3 (ipykernel)",
   "language": "python",
   "name": "python3"
  },
  "language_info": {
   "codemirror_mode": {
    "name": "ipython",
    "version": 3
   },
   "file_extension": ".py",
   "mimetype": "text/x-python",
   "name": "python",
   "nbconvert_exporter": "python",
   "pygments_lexer": "ipython3",
   "version": "3.8.7"
  }
 },
 "nbformat": 4,
 "nbformat_minor": 5
}
