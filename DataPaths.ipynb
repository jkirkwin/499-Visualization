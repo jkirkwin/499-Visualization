{
 "cells": [
  {
   "cell_type": "markdown",
   "id": "2fa30f67",
   "metadata": {},
   "source": [
    "# Data Paths\n",
    "\n",
    "Utilities and constants related to the data sets we've created"
   ]
  },
  {
   "cell_type": "code",
   "execution_count": 2,
   "id": "e37ce2b1",
   "metadata": {},
   "outputs": [],
   "source": [
    "import os\n",
    "import string"
   ]
  },
  {
   "cell_type": "markdown",
   "id": "d587ef09",
   "metadata": {},
   "source": [
    "## Define paths to various folders and files"
   ]
  },
  {
   "cell_type": "code",
   "execution_count": 13,
   "id": "016f56b1",
   "metadata": {},
   "outputs": [],
   "source": [
    "# All data files are inside this directory\n",
    "dataPathPrefix = os.getcwd() + \"\\\\data\\\\\""
   ]
  },
  {
   "cell_type": "code",
   "execution_count": 15,
   "id": "4e3d0a54",
   "metadata": {},
   "outputs": [],
   "source": [
    "# Data set from benchmarking TCP and QUIC with no packet loss\n",
    "benchmarkingDataDir = dataPathPrefix + \"benchmarking-optimized\\\\\"\n",
    "quicDataDir = benchmarkingDataDir + \"QUIC\\\\\"\n",
    "tcpDataDir = benchmarkingDataDir + \"TCP\\\\\"\n",
    "\n",
    "# Sample simulations for testing\n",
    "sampleQuicDir = benchmarkingDataDir + \"QUIC\\\\festive\\\\2Mbps\\\\pacing\\\\\"\n",
    "sampleTcpDir = benchmarkingDataDir + \"TCP\\\\festive\\\\2Mbps\\\\pacing\\\\\"\n",
    "\n",
    "sampleQuicDirSlow = quicDataDir + \"festive\\\\500Kbps\\\\no-pacing\\\\\"\n",
    "sampleTcpDirSlow = tcpDataDir + \"festive\\\\500Kbps\\\\no-pacing\\\\\""
   ]
  },
  {
   "cell_type": "code",
   "execution_count": 16,
   "id": "38210143",
   "metadata": {},
   "outputs": [],
   "source": [
    "# Data set from benchmarking TCP and QUIC with various packet loss rates \n",
    "benchmarkingLossDir = dataPathPrefix + \"benchmarking-loss\\\\\"\n",
    "quicLossDir = benchmarkingLossDir + \"QUIC\\\\\"\n",
    "tcpLossDir = benchmarkingLossDir + \"TCP\\\\\"\n",
    "\n",
    "# Sample runs with packet loss for testing\n",
    "sampleQuicLossDir = quicLossDir + \"festive\\\\2Mbps\\\\0.05\\\\no-pacing\\\\\"\n",
    "sampleTcpLossDir = tcpLossDir + \"festive\\\\2Mbps\\\\0.05\\\\no-pacing\\\\\""
   ]
  },
  {
   "cell_type": "code",
   "execution_count": 18,
   "id": "f78f6175",
   "metadata": {},
   "outputs": [],
   "source": [
    "# Final data set with balanced composition\n",
    "benchmarkingFinalDir = dataPathPrefix + \"benchmarking-final\\\\\"\n",
    "quicFinalDir = benchmarkingFinalDir + \"QUIC\\\\\"\n",
    "tcpFinalDir = benchmarkingFinalDir + \"TCP\\\\\"\n",
    "\n",
    "# Sample runs with packet loss for testing\n",
    "sampleQuicFinalDir = quicFinalDir + \"festive\\\\2Mbps\\\\0.05\\\\no-pacing\\\\\"\n",
    "sampleTcpFinalDir = tcpFinalDir + \"festive\\\\2Mbps\\\\0.05\\\\no-pacing\\\\\""
   ]
  },
  {
   "cell_type": "code",
   "execution_count": 20,
   "id": "b55b8bc7",
   "metadata": {},
   "outputs": [],
   "source": [
    "# Input data\n",
    "defaultSegmentSizesFile = dataPathPrefix + \"segmentSizes.txt\""
   ]
  },
  {
   "cell_type": "code",
   "execution_count": null,
   "id": "bedfeffb",
   "metadata": {},
   "outputs": [],
   "source": []
  },
  {
   "cell_type": "markdown",
   "id": "0b786be2",
   "metadata": {},
   "source": [
    "## Misc String Helpers"
   ]
  },
  {
   "cell_type": "code",
   "execution_count": 8,
   "id": "8a171f44",
   "metadata": {},
   "outputs": [],
   "source": [
    "# https://stackoverflow.com/questions/2556108/rreplace-how-to-replace-the-last-occurrence-of-an-expression-in-a-string\n",
    "def rreplace(s, old, new):\n",
    "    li = s.rsplit(old, 1)\n",
    "    return new.join(li)\n",
    "\n",
    "# Remove a prefix from the string and return the shortened result\n",
    "def removePrefix(s, prefix):\n",
    "    assert s.startswith(prefix)\n",
    "    return s[len(prefix):]"
   ]
  },
  {
   "cell_type": "markdown",
   "id": "07fa4f11",
   "metadata": {},
   "source": [
    "## Helpers which deal with issues around the loss vs no-loss data sets"
   ]
  },
  {
   "cell_type": "code",
   "execution_count": 9,
   "id": "1c2b9e3c",
   "metadata": {},
   "outputs": [],
   "source": [
    "def hasPrefix(s, prefix):\n",
    "    return s.startswith(prefix)\n",
    "\n",
    "# Hack to check if a path belongs to the first or second/third datasets\n",
    "def hasError(path):\n",
    "    return hasPrefix(path, benchmarkingLossDir) or hasPrefix(path, benchmarkingFinalDir) "
   ]
  },
  {
   "cell_type": "code",
   "execution_count": 19,
   "id": "2069e357",
   "metadata": {},
   "outputs": [],
   "source": [
    "# Get the relative path from the root directory for the dataset to which the\n",
    "# simulation belongs.\n",
    "def getRelativePath(qualifiedPath):\n",
    "    # Determine which dataset we're looking at\n",
    "    prefixOptions = [benchmarkingDataDir, benchmarkingLossDir, benchmarkingFinalDir]\n",
    "    for prefix in prefixOptions:\n",
    "        if hasPrefix(qualifiedPath, prefix):\n",
    "            return removePrefix(qualifiedPath, prefix)\n",
    "    \n",
    "    assert False # Unknown dataset"
   ]
  },
  {
   "cell_type": "markdown",
   "id": "ece9f778",
   "metadata": {},
   "source": [
    "## TCP-QUIC Corrolation Helpers"
   ]
  },
  {
   "cell_type": "code",
   "execution_count": 11,
   "id": "b7cf0174",
   "metadata": {},
   "outputs": [],
   "source": [
    "def findTcpAnalogPath(quicDir):\n",
    "    return rreplace(quicDir, \"QUIC\", \"TCP\")"
   ]
  },
  {
   "cell_type": "code",
   "execution_count": null,
   "id": "d270411c",
   "metadata": {},
   "outputs": [],
   "source": []
  }
 ],
 "metadata": {
  "kernelspec": {
   "display_name": "Python 3 (ipykernel)",
   "language": "python",
   "name": "python3"
  },
  "language_info": {
   "codemirror_mode": {
    "name": "ipython",
    "version": 3
   },
   "file_extension": ".py",
   "mimetype": "text/x-python",
   "name": "python",
   "nbconvert_exporter": "python",
   "pygments_lexer": "ipython3",
   "version": "3.8.7"
  }
 },
 "nbformat": 4,
 "nbformat_minor": 5
}
