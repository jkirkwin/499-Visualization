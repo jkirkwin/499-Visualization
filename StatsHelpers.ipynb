{
 "cells": [
  {
   "cell_type": "markdown",
   "id": "a18a66df",
   "metadata": {},
   "source": [
    "# Statistics Helpers\n",
    "\n",
    "Functions that can be used to compute various numeric properties about simulations"
   ]
  },
  {
   "cell_type": "code",
   "execution_count": 170,
   "id": "cae7532e",
   "metadata": {},
   "outputs": [],
   "source": [
    "import numpy as np"
   ]
  },
  {
   "cell_type": "code",
   "execution_count": 193,
   "id": "6f40fd03",
   "metadata": {
    "collapsed": true
   },
   "outputs": [
    {
     "name": "stdout",
     "output_type": "stream",
     "text": [
      "999\n",
      "2000\n",
      "1000000\n",
      "QUIC with loss sample\n",
      "C:\\Users\\Jamie\\Documents\\UVic\\4th Year\\Fall 2021\\CSC 499 - QUIC\\jupyter-csc499\\499-Visualization\\data\\benchmarking-loss\\TCP\\festive\\2Mbps\\0.05\\no-pacing\\\n",
      "TCP | festive | 2Mbps (2000000bps) | 5.0% loss | no pacing\n",
      "444\n",
      "222\n",
      "QUIC | festive | 1Mbps (1000000bps) | 0.0% loss | pacing\n",
      "QUIC | festive | 1Mbps (1000000bps) | 1.0% loss | no pacing\n",
      "QUIC | festive | 2Mbps (2000000bps) | 5.0% loss | no pacing\n",
      "QUIC | tobasco | 500Kbps (500000bps) | 1.0% loss | pacing\n",
      "QUIC | tobasco | 2Mbps (2000000bps) | 2.0% loss | pacing\n",
      "QUIC | tobasco | 3Mbps (3000000bps) | 2.0% loss | no pacing\n",
      "QUIC | tobasco | 3Mbps (3000000bps) | 5.0% loss | pacing\n",
      "QUIC | tobasco | 5Mbps (5000000bps) | 5.0% loss | no pacing\n",
      "festive over QUIC @ 2Mbps with 0% loss (with pacing)\n",
      "festive over QUIC @ 2Mbps with 5.0% loss (no pacing)\n"
     ]
    }
   ],
   "source": [
    "%run Simulations.ipynb"
   ]
  },
  {
   "cell_type": "markdown",
   "id": "724832f9",
   "metadata": {},
   "source": [
    "## Single-parameter Queries"
   ]
  },
  {
   "cell_type": "code",
   "execution_count": 172,
   "id": "c8a4df79",
   "metadata": {},
   "outputs": [],
   "source": [
    "# Get quality levels requested for a given simulation\n",
    "def getQualityLevels(parentDir):\n",
    "    _, rows = readAdaptationLog(parentDir)\n",
    "    return np.array(rows)[:,1]\n",
    "\n",
    "\n",
    "# Computes the mean quality level over all segments for a simulation\n",
    "def meanQualityLevel(parentDir):\n",
    "    qualities = getQualityLevels(parentDir)\n",
    "    return np.mean(qualities)"
   ]
  },
  {
   "cell_type": "code",
   "execution_count": 173,
   "id": "0ae961bd",
   "metadata": {},
   "outputs": [
    {
     "name": "stdout",
     "output_type": "stream",
     "text": [
      "Mean Quality Level - QUIC 500Kbps:  0.7278911564625851\n",
      "Mean Quality Level - TCP  500Kbps:  0.9099099099099099\n",
      "Mean Quality Level - QUIC 1Mbps:  1.5\n",
      "Mean Quality Level - TCP  1Mbps:  1.90990990990991\n"
     ]
    }
   ],
   "source": [
    "print (\"Mean Quality Level - QUIC 500Kbps: \", meanQualityLevel(sampleQuicDirSlow))\n",
    "print (\"Mean Quality Level - TCP  500Kbps: \", meanQualityLevel(sampleTcpDirSlow))\n",
    "print (\"Mean Quality Level - QUIC 1Mbps: \", meanQualityLevel(sampleQuicDir))\n",
    "print (\"Mean Quality Level - TCP  1Mbps: \", meanQualityLevel(sampleTcpDir))"
   ]
  },
  {
   "cell_type": "code",
   "execution_count": 174,
   "id": "0e25bc0d",
   "metadata": {},
   "outputs": [],
   "source": [
    "# Computes the number of times a buffer underflow ocurred in a simulation\n",
    "def underflowCount(parentDir):\n",
    "    _, rows = readUnderflowLog(parentDir)\n",
    "    return len(rows)"
   ]
  },
  {
   "cell_type": "code",
   "execution_count": 175,
   "id": "02e4a49d",
   "metadata": {},
   "outputs": [
    {
     "name": "stdout",
     "output_type": "stream",
     "text": [
      "Malformed buffer underflow log. Likely that QUIC failed near time 330.524\n",
      "Number of buffer under-runs - QUIC 500Kbps:  1\n",
      "Number of buffer under-runs - TCP  500Kbps:  0\n",
      "Malformed buffer underflow log. Likely that QUIC failed near time 184.045\n",
      "Number of buffer under-runs - QUIC 1Mbps:  0\n",
      "Number of buffer under-runs - TCP  1Mbps:  0\n"
     ]
    }
   ],
   "source": [
    "print (\"Number of buffer under-runs - QUIC 500Kbps: \", underflowCount(sampleQuicDirSlow))\n",
    "print (\"Number of buffer under-runs - TCP  500Kbps: \", underflowCount(sampleTcpDirSlow))\n",
    "print (\"Number of buffer under-runs - QUIC 1Mbps: \", underflowCount(sampleQuicDir))\n",
    "print (\"Number of buffer under-runs - TCP  1Mbps: \", underflowCount(sampleTcpDir))"
   ]
  },
  {
   "cell_type": "code",
   "execution_count": 176,
   "id": "c6552dcc",
   "metadata": {},
   "outputs": [],
   "source": [
    "# Note that TCP simulations may run for longer than corresponding QUIC simulations, \n",
    "# so comparing these counts directly can be misleading.\n",
    "def qualityChangeCount(parentDir):\n",
    "    qualities = getQualityLevels(parentDir)\n",
    "    changeCount = 0\n",
    "    current = qualities[0]\n",
    "    for quality in qualities[1:]:\n",
    "        if current != quality:\n",
    "            current = quality\n",
    "            changeCount += 1\n",
    "    \n",
    "    return changeCount"
   ]
  },
  {
   "cell_type": "code",
   "execution_count": 177,
   "id": "abfd3396",
   "metadata": {},
   "outputs": [
    {
     "name": "stdout",
     "output_type": "stream",
     "text": [
      "Number of quality changes - QUIC 500Kbps:  3\n",
      "Number of quality changes - TCP  500Kbps:  1\n",
      "Number of quality changes - QUIC 1Mbps:    2\n",
      "Number of quality changes - TCP  1Mbps:    54\n"
     ]
    }
   ],
   "source": [
    "print (\"Number of quality changes - QUIC 500Kbps: \", qualityChangeCount(sampleQuicDirSlow))\n",
    "print (\"Number of quality changes - TCP  500Kbps: \", qualityChangeCount(sampleTcpDirSlow))\n",
    "print (\"Number of quality changes - QUIC 1Mbps:   \", qualityChangeCount(sampleQuicDir))\n",
    "print (\"Number of quality changes - TCP  1Mbps:   \", qualityChangeCount(sampleTcpDir)) "
   ]
  },
  {
   "cell_type": "markdown",
   "id": "87b4cfda",
   "metadata": {},
   "source": [
    "## Input data stats"
   ]
  },
  {
   "cell_type": "code",
   "execution_count": 178,
   "id": "36a5384e",
   "metadata": {},
   "outputs": [],
   "source": [
    "# Return the average bitrates for each quality level\n",
    "def getAverageBitrates(segmentSizesFile):\n",
    "    segmentSizes = readSegmentSizesFile(segmentSizesFile)\n",
    "    return segmentSizes.mean(axis=1)/2.0 # Divide by 2 because each segment is 2 seconds long\n",
    "\n",
    "\n",
    "# Return the average bitrate for the given quality level\n",
    "def getAverageBitrate(segmentSizesFile, qualityLevel):\n",
    "    segmentSizes = readSegmentSizesFile(segmentSizesFile)\n",
    "    return segmentSizes[qualityLevel,:].mean() / 2.0 # Divide by 2 to account for segment duration"
   ]
  },
  {
   "cell_type": "code",
   "execution_count": 179,
   "id": "34062f42",
   "metadata": {},
   "outputs": [
    {
     "name": "stdout",
     "output_type": "stream",
     "text": [
      "Quality 0 :    22049.02 bits/sec\n",
      "Quality 1 :    43490.10 bits/sec\n",
      "Quality 2 :   112718.11 bits/sec\n",
      "Quality 3 :   234482.03 bits/sec\n",
      "Quality 4 :   492342.43 bits/sec\n",
      "Quality 5 :   945602.08 bits/sec\n",
      "Quality 6 :  2295160.36 bits/sec\n",
      "Quality 7 :  5125286.18 bits/sec\n"
     ]
    }
   ],
   "source": [
    "# Show the average bitrates for each quality level (option 1).\n",
    "allQualityLevels = getAverageBitrates(defaultSegmentSizesFile)\n",
    "for i in range(len(allQualityLevels)):\n",
    "    # Print at 2 decimal precision with right alignment\n",
    "    bitrate = allQualityLevels[i]\n",
    "    rounded = \"{:.2f}\".format(bitrate)\n",
    "    print (\"Quality {} : \".format(i), f\"{rounded:>10} bits/sec\")"
   ]
  },
  {
   "cell_type": "code",
   "execution_count": 180,
   "id": "a74f7ccd",
   "metadata": {},
   "outputs": [
    {
     "name": "stdout",
     "output_type": "stream",
     "text": [
      "Quality 0 :    22049.02 bits/sec\n",
      "Quality 1 :    43490.10 bits/sec\n",
      "Quality 2 :   112718.11 bits/sec\n",
      "Quality 3 :   234482.03 bits/sec\n",
      "Quality 4 :   492342.43 bits/sec\n",
      "Quality 5 :   945602.08 bits/sec\n",
      "Quality 6 :  2295160.36 bits/sec\n",
      "Quality 7 :  5125286.18 bits/sec\n"
     ]
    }
   ],
   "source": [
    "# Show the average bitrates for each quality level (option 2).\n",
    "for i in range(len(allQualityLevels)):\n",
    "    # Print at 2 decimal precision with right alignment\n",
    "    bitrate = getAverageBitrate(defaultSegmentSizesFile, i)\n",
    "    rounded = \"{:.2f}\".format(bitrate)\n",
    "    print (\"Quality {} : \".format(i), f\"{rounded:>10} bits/sec\")"
   ]
  },
  {
   "cell_type": "markdown",
   "id": "714dc9fc",
   "metadata": {},
   "source": [
    "## FESTIVE Metrics\n",
    "\n",
    "Under festive, we have computations for efficiency, stability, and fairness. Since we're not looking at competition between players, we will focus on stability and efficiency for individual players."
   ]
  },
  {
   "cell_type": "markdown",
   "id": "2636240a",
   "metadata": {},
   "source": [
    "### Efficiency\n",
    "For `N` players and bandwidth `W` where player `x` plays bit-rate `b_x_t` at time t, we define inefficiency as a function of time:\n",
    "`|sum(b_x_t - W)|/W`\n",
    "\n",
    "For us, since we only have one player, this becomes\n",
    "`|(b_t - W)|/W`\n",
    "\n",
    "i.e. at time `t`, the inefficiency is the difference between the current bitrate and the actual bandwidth, all divided by the bandwidth. \n",
    "\n",
    "For this we have a few options to compute the bandwidth to use at time t:\n",
    "* Take the mean over the entire video to get mean bitrate\n",
    "* Take the mean over a sliding window of segments around the current one at the current quality \n",
    "* Look only at the segment being downloaded\n",
    "\n",
    "I like the third option best because the adaptation algorithm has that information on the size of the segment when it makes its decisision."
   ]
  },
  {
   "cell_type": "code",
   "execution_count": 181,
   "id": "1d1e5cc0",
   "metadata": {},
   "outputs": [],
   "source": [
    "def bitrateForSegment(sim, segmentNumber):\n",
    "    segSize = getSegmentSizeChoices(sim.path)[segmentNumber]\n",
    "    return segSize / 2.0 # Divide by 2 because duration is two seconds\n",
    "\n",
    "def bitrateForAllSegments(sim):\n",
    "    segSizes = getSegmentSizeChoices(sim.path)\n",
    "    return segSizes / 2.0"
   ]
  },
  {
   "cell_type": "code",
   "execution_count": 182,
   "id": "aaa052d7",
   "metadata": {},
   "outputs": [],
   "source": [
    "def inefficiencyScore(sim, segmentNumber):\n",
    "    bitrate = bitrateForSegment(sim, segmentNumber)   \n",
    "    bandwidthBps = sim.rateVal\n",
    "    return abs (bandwidthBps - bitrate) / bandwidthBps\n",
    "\n",
    "\n",
    "def inefficiencyScores(sim):\n",
    "    bitrates = bitrateForAllSegments(sim)\n",
    "    bandwidthBps = sim.rateVal\n",
    "\n",
    "    return abs (bitrates - bandwidthBps) / bandwidthBps\n",
    "\n",
    "\n",
    "def meanInefficiency(sim):\n",
    "    return inefficiencyScores(sim).mean()"
   ]
  },
  {
   "cell_type": "code",
   "execution_count": 183,
   "id": "b045d899",
   "metadata": {},
   "outputs": [
    {
     "name": "stdout",
     "output_type": "stream",
     "text": [
      "0.999218\n",
      "0.979147\n",
      "0.9769315\n",
      "0.9859475\n",
      "0.9858765\n"
     ]
    },
    {
     "data": {
      "text/plain": [
       "array([0.999218 , 0.988803 , 0.979147 , 0.9769315, 0.9859475, 0.9858765,\n",
       "       0.9890855, 0.991851 , 0.9895895, 0.991705 , 0.990389 , 0.991656 ,\n",
       "       0.9917645, 0.994451 , 0.993565 , 0.988925 , 0.989494 , 0.9879025,\n",
       "       0.985992 , 0.986492 , 0.971861 , 0.948986 , 0.957303 , 0.9644935,\n",
       "       0.971294 , 0.9737635, 0.927984 , 0.929926 , 0.9350025, 0.934797 ,\n",
       "       0.9547595, 0.945214 , 0.9349135, 0.9709125, 0.950485 , 0.9749865,\n",
       "       0.9686135, 0.968624 , 0.9672955, 0.968813 , 0.9634375, 0.965162 ,\n",
       "       0.9600805, 0.963889 , 0.9794295, 0.9731   , 0.967376 , 0.971432 ,\n",
       "       0.965893 , 0.977587 , 0.981885 , 0.994425 , 0.957565 , 0.9154615,\n",
       "       0.9005715, 0.883133 , 0.8832015, 0.9009615, 0.913289 , 0.965199 ,\n",
       "       0.9310595, 0.922618 , 0.9546665, 0.942962 , 0.9272035, 0.9512365,\n",
       "       0.971827 , 0.9719025, 0.975762 , 0.930174 , 0.9307615, 0.9590985,\n",
       "       0.9518955, 0.973785 , 0.9983015, 0.9410445, 0.882098 , 0.8739415,\n",
       "       0.9014315, 0.8945845, 0.8913515, 0.902468 , 0.9167   , 0.901236 ,\n",
       "       0.901946 , 0.92187  , 0.926892 , 0.934046 , 0.912974 , 0.9038425,\n",
       "       0.899558 ])"
      ]
     },
     "execution_count": 183,
     "metadata": {},
     "output_type": "execute_result"
    }
   ],
   "source": [
    "sampleQuicSim = Simulation(sampleQuicDir)\n",
    "print(inefficiencyScore(sampleQuicSim, 0))\n",
    "print(inefficiencyScore(sampleQuicSim, 2))\n",
    "print(inefficiencyScore(sampleQuicSim, 3))\n",
    "print(inefficiencyScore(sampleQuicSim, 4))\n",
    "print(inefficiencyScore(sampleQuicSim, 5))\n",
    "\n",
    "inefficiencyScores(sampleQuicSim)"
   ]
  },
  {
   "cell_type": "code",
   "execution_count": 207,
   "id": "fe6b78eb",
   "metadata": {},
   "outputs": [
    {
     "name": "stdout",
     "output_type": "stream",
     "text": [
      "0.999218\n",
      "0.979147\n",
      "0.9769315\n",
      "0.9859475\n",
      "0.9858765\n"
     ]
    },
    {
     "data": {
      "text/plain": [
       "array([0.999218 , 0.988803 , 0.979147 , 0.9769315, 0.9859475, 0.9858765,\n",
       "       0.9890855, 0.991851 , 0.9895895, 0.991705 , 0.990389 , 0.991656 ,\n",
       "       0.9917645, 0.994451 , 0.993565 , 0.988925 , 0.989494 , 0.9879025,\n",
       "       0.985992 , 0.986492 , 0.971861 , 0.948986 , 0.957303 , 0.9644935,\n",
       "       0.971294 , 0.9737635, 0.927984 , 0.929926 , 0.9350025, 0.934797 ,\n",
       "       0.9547595, 0.945214 , 0.9349135, 0.9709125, 0.950485 , 0.9749865,\n",
       "       0.9686135, 0.968624 , 0.9672955, 0.968813 , 0.9634375, 0.965162 ,\n",
       "       0.9600805, 0.922233 , 0.9794295, 0.9731   , 0.967376 , 0.971432 ,\n",
       "       0.965893 , 0.977587 , 0.9592525, 0.994425 , 0.957565 , 0.9154615,\n",
       "       0.9005715, 0.883133 , 0.8832015, 0.788591 , 0.913289 , 0.965199 ,\n",
       "       0.9310595, 0.922618 , 0.9546665, 0.942962 , 0.835357 , 0.9512365,\n",
       "       0.971827 , 0.9719025, 0.975762 , 0.930174 , 0.9307615, 0.9153015,\n",
       "       0.9518955, 0.973785 , 0.9983015, 0.9410445, 0.882098 , 0.8739415,\n",
       "       0.792141 , 0.8945845, 0.8913515, 0.902468 , 0.9167   , 0.901236 ,\n",
       "       0.901946 , 0.850148 , 0.926892 , 0.934046 , 0.912974 , 0.9038425,\n",
       "       0.899558 , 0.865888 , 0.807204 , 0.9252675, 0.8733115, 0.961523 ,\n",
       "       0.904721 , 0.8923205, 0.945532 , 0.8107785, 0.8902215, 0.9293775,\n",
       "       0.946357 , 0.96527  , 0.9641185, 0.9530415, 0.8195275, 0.916698 ,\n",
       "       0.937926 , 0.9626705, 0.966412 , 0.9707765, 0.985231 , 0.97542  ,\n",
       "       0.9860605, 0.984529 , 0.9673485, 0.955758 , 0.925573 , 0.9373705,\n",
       "       0.830441 , 0.9365395, 0.9535075, 0.9761435, 0.8885345, 0.884841 ,\n",
       "       0.883654 , 0.7933655, 0.905364 , 0.92467  , 0.936303 , 0.9453645,\n",
       "       0.936907 , 0.9482935, 0.922326 , 0.9527885, 0.967833 , 0.953253 ,\n",
       "       0.9572485, 0.948279 , 0.9664115, 0.900609 , 0.892242 , 0.9152035,\n",
       "       0.920374 , 0.920543 , 0.933687 , 0.92729  , 0.886358 , 0.9672415,\n",
       "       0.949316 , 0.958502 , 0.9476925, 0.947128 , 0.953906 , 0.939416 ,\n",
       "       0.9669175, 0.9244395, 0.9263165, 0.9600945, 0.951539 , 0.8950545,\n",
       "       0.847772 , 0.947455 , 0.954616 , 0.956987 , 0.9125855, 0.9196275,\n",
       "       0.9146225, 0.875338 , 0.9598   , 0.9685525, 0.962575 , 0.965975 ,\n",
       "       0.976841 , 0.974878 , 0.9548155, 0.980519 , 0.985816 , 0.988676 ,\n",
       "       0.98658  , 0.9866985, 0.989901 , 0.980912 , 0.9832745, 0.9867335,\n",
       "       0.983898 , 0.966767 , 0.970468 , 0.8811145, 0.7798625, 0.890669 ,\n",
       "       0.8742605, 0.890512 , 0.8744925, 0.911021 , 0.9466905, 0.930068 ,\n",
       "       0.957334 , 0.9699795, 0.965265 , 0.969861 , 0.9524065, 0.965548 ,\n",
       "       0.949042 , 0.9779215, 0.968581 , 0.9706395, 0.9669425, 0.9651695,\n",
       "       0.995202 , 0.967403 , 0.9781085, 0.975908 , 0.9655245, 0.9672505,\n",
       "       0.948978 , 0.937862 , 0.9975025, 0.984492 , 0.9846095, 0.9668545])"
      ]
     },
     "execution_count": 207,
     "metadata": {},
     "output_type": "execute_result"
    }
   ],
   "source": [
    "sampleTcpSim = Simulation(sampleTcpDir)\n",
    "print(inefficiencyScore(sampleTcpSim, 0))\n",
    "print(inefficiencyScore(sampleTcpSim, 2))\n",
    "print(inefficiencyScore(sampleTcpSim, 3))\n",
    "print(inefficiencyScore(sampleTcpSim, 4))\n",
    "print(inefficiencyScore(sampleTcpSim, 5))\n",
    "\n",
    "inefficiencyScores(sampleTcpSim)"
   ]
  },
  {
   "cell_type": "code",
   "execution_count": 185,
   "id": "d139a6d7",
   "metadata": {},
   "outputs": [],
   "source": [
    "# Computes the difference inefficiency(sim2) - inefficiency(sim1)\n",
    "def compareInefficiency(sim1, sim2):\n",
    "    scores1 = inefficiencyScores(sim1)\n",
    "    scores2 = inefficiencyScores(sim2)\n",
    "    \n",
    "    # Trim off the end of the longer simulation if once quit earlier\n",
    "    if len(scores1) != len(scores2):\n",
    "        minLen = min(len(scores1), len(scores2))\n",
    "        scores1 = scores1[:minLen]\n",
    "        scores2 = scores2[:minLen]\n",
    "    \n",
    "    mean1 = scores1.mean()\n",
    "    mean2 = scores2.mean()\n",
    "    \n",
    "    return mean2 - mean1"
   ]
  },
  {
   "cell_type": "code",
   "execution_count": 186,
   "id": "cfd178d4",
   "metadata": {},
   "outputs": [
    {
     "name": "stdout",
     "output_type": "stream",
     "text": [
      "comparing festive over QUIC @ 500Kbps with 0.0% loss (with pacing) with TCP counterpart\n",
      "TCP more efficient by 0.03349548979591821\n",
      "\n",
      "comparing festive over QUIC @ 500Kbps with 0.0% loss (no pacing) with TCP counterpart\n",
      "TCP more efficient by 0.0057276027397259455\n",
      "\n",
      "comparing festive over QUIC @ 500Kbps with 1.0% loss (with pacing) with TCP counterpart\n",
      "TCP more efficient by 0.012860738255033421\n",
      "\n",
      "comparing festive over QUIC @ 500Kbps with 1.0% loss (no pacing) with TCP counterpart\n",
      "TCP more efficient by 0.0030497288135593603\n",
      "\n",
      "comparing festive over QUIC @ 1Mbps with 0.0% loss (with pacing) with TCP counterpart\n",
      "TCP more efficient by 0.005827577639751613\n",
      "\n",
      "comparing festive over QUIC @ 1Mbps with 1.0% loss (with pacing) with TCP counterpart\n",
      "TCP more efficient by 0.000831677165354372\n",
      "\n",
      "comparing festive over QUIC @ 1Mbps with 1.0% loss (no pacing) with TCP counterpart\n",
      "TCP more efficient by 0.005305012345678928\n",
      "\n",
      "comparing festive over QUIC @ 1Mbps with 2.0% loss (with pacing) with TCP counterpart\n",
      "TCP more efficient by 0.005969196721311354\n",
      "\n",
      "comparing festive over QUIC @ 2Mbps with 0.0% loss (with pacing) with TCP counterpart\n",
      "TCP more efficient by 0.005421043956043925\n",
      "\n",
      "comparing festive over QUIC @ 2Mbps with 0.0% loss (no pacing) with TCP counterpart\n",
      "TCP more efficient by 0.0060180384615384774\n",
      "\n",
      "comparing festive over QUIC @ 2Mbps with 1.0% loss (with pacing) with TCP counterpart\n",
      "TCP more efficient by 0.0069003392857138746\n",
      "\n",
      "comparing festive over QUIC @ 2Mbps with 1.0% loss (no pacing) with TCP counterpart\n",
      "QUIC more efficient by 0.001803670329670326\n",
      "\n",
      "comparing festive over QUIC @ 2Mbps with 2.0% loss (no pacing) with TCP counterpart\n",
      "TCP more efficient by 0.011620944444444614\n",
      "\n",
      "comparing festive over QUIC @ 2Mbps with 5.0% loss (no pacing) with TCP counterpart\n",
      "QUIC more efficient by 0.00546578703703704\n",
      "\n",
      "comparing festive over QUIC @ 3Mbps with 10.0% loss (with pacing) with TCP counterpart\n",
      "tie\n",
      "\n",
      "comparing tobasco over QUIC @ 500Kbps with 0.0% loss (with pacing) with TCP counterpart\n",
      "TCP more efficient by 0.00040563025210083037\n",
      "\n",
      "comparing tobasco over QUIC @ 500Kbps with 0.0% loss (no pacing) with TCP counterpart\n",
      "TCP more efficient by 0.00037418604651162646\n",
      "\n",
      "comparing tobasco over QUIC @ 500Kbps with 1.0% loss (with pacing) with TCP counterpart\n",
      "TCP more efficient by 0.00029432926829264794\n",
      "\n",
      "comparing tobasco over QUIC @ 500Kbps with 1.0% loss (no pacing) with TCP counterpart\n",
      "TCP more efficient by 0.0004875757575756312\n",
      "\n",
      "comparing tobasco over QUIC @ 1Mbps with 0.0% loss (no pacing) with TCP counterpart\n",
      "TCP more efficient by 0.015322305084745635\n",
      "\n",
      "comparing tobasco over QUIC @ 1Mbps with 1.0% loss (no pacing) with TCP counterpart\n",
      "TCP more efficient by 0.015407038461538458\n",
      "\n",
      "comparing tobasco over QUIC @ 1Mbps with 5.0% loss (no pacing) with TCP counterpart\n",
      "tie\n",
      "\n",
      "comparing tobasco over QUIC @ 2Mbps with 0.0% loss (with pacing) with TCP counterpart\n",
      "TCP more efficient by 0.001478894366197303\n",
      "\n",
      "comparing tobasco over QUIC @ 2Mbps with 1.0% loss (with pacing) with TCP counterpart\n",
      "TCP more efficient by 0.0017660154639175252\n",
      "\n",
      "comparing tobasco over QUIC @ 2Mbps with 1.0% loss (no pacing) with TCP counterpart\n",
      "tie\n",
      "\n",
      "comparing tobasco over QUIC @ 2Mbps with 2.0% loss (with pacing) with TCP counterpart\n",
      "TCP more efficient by 0.0038630272727271375\n",
      "\n",
      "comparing tobasco over QUIC @ 2Mbps with 2.0% loss (no pacing) with TCP counterpart\n",
      "TCP more efficient by 0.0003596106870227267\n",
      "\n",
      "comparing tobasco over QUIC @ 2Mbps with 5.0% loss (with pacing) with TCP counterpart\n",
      "QUIC more efficient by 0.0038243714285715047\n",
      "\n",
      "comparing tobasco over QUIC @ 3Mbps with 0.0% loss (with pacing) with TCP counterpart\n",
      "TCP more efficient by 0.0005129084249084759\n",
      "\n",
      "comparing tobasco over QUIC @ 3Mbps with 0.0% loss (no pacing) with TCP counterpart\n",
      "TCP more efficient by 0.00013925274725268277\n",
      "\n",
      "comparing tobasco over QUIC @ 3Mbps with 1.0% loss (with pacing) with TCP counterpart\n",
      "TCP more efficient by 0.0010753294117648027\n",
      "\n",
      "comparing tobasco over QUIC @ 3Mbps with 1.0% loss (no pacing) with TCP counterpart\n",
      "TCP more efficient by 0.0009103296703296682\n",
      "\n",
      "comparing tobasco over QUIC @ 3Mbps with 2.0% loss (with pacing) with TCP counterpart\n",
      "TCP more efficient by 0.0007328222222222625\n",
      "\n",
      "comparing tobasco over QUIC @ 3Mbps with 2.0% loss (no pacing) with TCP counterpart\n",
      "TCP more efficient by 0.012024476767676706\n",
      "\n",
      "comparing tobasco over QUIC @ 3Mbps with 5.0% loss (with pacing) with TCP counterpart\n",
      "TCP more efficient by 0.0031947151515150374\n",
      "\n",
      "comparing tobasco over QUIC @ 5Mbps with 5.0% loss (with pacing) with TCP counterpart\n",
      "QUIC more efficient by 0.007585162637362641\n",
      "\n",
      "comparing tobasco over QUIC @ 5Mbps with 5.0% loss (no pacing) with TCP counterpart\n",
      "TCP more efficient by 0.002635626666666835\n",
      "\n"
     ]
    }
   ],
   "source": [
    "# Demo: Let's compare the inefficiencies between all pairs where there is loss\n",
    "for (quicSim, tcpSim) in findSimulationPairs(quicLossDir, lambda sim : sim.countSegments() > 60):\n",
    "    print ('comparing {} with TCP counterpart'.format(getDescription(quicSim)))\n",
    "    delta = compareInefficiency(quicSim, tcpSim)\n",
    "    if delta == 0:\n",
    "        print ('tie')\n",
    "    elif delta < 0:\n",
    "        print ('TCP more efficient by {}'.format(abs(delta)))\n",
    "    else:\n",
    "        print ('QUIC more efficient by {}'.format(delta))\n",
    "    print()\n",
    "    \n",
    "# TODO May want to try graphing this? The trend appears to be that TCP is more efficient"
   ]
  },
  {
   "cell_type": "code",
   "execution_count": 187,
   "id": "a0553f49",
   "metadata": {},
   "outputs": [
    {
     "name": "stdout",
     "output_type": "stream",
     "text": [
      "-0.003927904646335097\n"
     ]
    }
   ],
   "source": [
    "# Demo: Look at the average difference between QUIC and TCP efficiency\n",
    "total = 0\n",
    "count = 0\n",
    "for (quicSim, tcpSim) in findSimulationPairs(quicLossDir, lambda sim : sim.countSegments() > 60):\n",
    "    total += compareInefficiency(quicSim, tcpSim)\n",
    "    count += 1\n",
    "\n",
    "print (total/count)"
   ]
  },
  {
   "cell_type": "markdown",
   "id": "4b9ec86a",
   "metadata": {},
   "source": [
    "__Efficiency take-away__ : From this measurement, it looks like neither one is significantly more efficiency over the whole set of test-runs. Is there a relevant subset where QUIC or TCP performs significantly better than the other?"
   ]
  },
  {
   "cell_type": "markdown",
   "id": "057322f5",
   "metadata": {},
   "source": [
    "### Stability\n",
    "Festive defines instability as a weighted sum of quality switches over a weighted sum of bit rates"
   ]
  },
  {
   "cell_type": "code",
   "execution_count": 188,
   "id": "df83eee1",
   "metadata": {},
   "outputs": [],
   "source": [
    "def bitrateAtTime(sim, time):\n",
    "    # Find the segment that corresponds to the given time and use its size\n",
    "    segment = int(np.floor (time / 2))\n",
    "    return bitrateForSegment(sim, segment)\n",
    "\n",
    "\n",
    "def bitrateEachSecond(sim):\n",
    "    segmentBitrates = bitrateForAllSegments(sim)\n",
    "    \n",
    "    # Reach segment represents two seconds so we need to duplicate all values in \n",
    "    # the list.\n",
    "    return np.repeat(segmentBitrates, 2)\n",
    "\n",
    "\n",
    "# Compute the instability of simulation sim as of time t\n",
    "def instabilityAtTime(sim, t):\n",
    "    if (t == 0):\n",
    "        return 0\n",
    "    \n",
    "    k = 20 # Length of weighted sum\n",
    "    windowSize = min(k, t) # Don't go back the full window at the beginning of the timeline\n",
    "    \n",
    "    def weight(d):\n",
    "        return k-d; # Linear penalty function to decrease the contribution of switches longer in the past\n",
    "    \n",
    "    bitSwitchSum = 0\n",
    "    for d in range(windowSize):\n",
    "        # Could be done more efficiently\n",
    "        prevBitrate = bitrateAtTime(sim, t-d-1)\n",
    "        curBitrate = bitrateAtTime(sim, t - d)\n",
    "        \n",
    "        bitSwitchSum += weight(d) * abs (prevBitrate - curBitrate)    \n",
    "    \n",
    "    bitrateSum = 0\n",
    "    for d in range(1, windowSize + 1):\n",
    "        bitrate = bitrateAtTime(sim, t - d)\n",
    "        bitrateSum += weight(d) * bitrate\n",
    "        \n",
    "    return bitSwitchSum / bitrateSum\n",
    "\n"
   ]
  },
  {
   "cell_type": "code",
   "execution_count": 208,
   "id": "af7dd93b",
   "metadata": {},
   "outputs": [],
   "source": [
    "def bitrateAtTime(sim, time):\n",
    "    # Find the segment that corresponds to the given time and use its size\n",
    "    segment = int(np.floor (time / 2))\n",
    "    return bitrateForSegment(sim, segment)\n",
    "\n",
    "# Compute the instability of simulation sim as of time t\n",
    "def instabilityAtTime(sim, t):\n",
    "    if (t == 0):\n",
    "        return 0\n",
    "    \n",
    "    bitrates = bitrateEachSecond(sim)\n",
    "    \n",
    "    k = 20 # Length of weighted sum\n",
    "    windowSize = min(k, t) # Don't go back the full window at the beginning of the timeline\n",
    "    \n",
    "    def weight(d):\n",
    "        return k-d; # Linear penalty function to decrease the contribution of switches longer in the past\n",
    "    \n",
    "    bitSwitchSum = 0\n",
    "    for d in range(windowSize):\n",
    "        prev = bitrates[t-d-1]\n",
    "        cur = bitrates[t-d]\n",
    "        bitSwitchSum += weight(d) * abs (cur - prev)    \n",
    "    \n",
    "    bitrateSum = 0\n",
    "    for d in range(1, windowSize + 1):\n",
    "        bitrateSum += weight(d) * bitrates[t-d]\n",
    "    \n",
    "    return bitSwitchSum / bitrateSum\n",
    "\n",
    "\n",
    "def instabilityEachSecond(sim):\n",
    "    bitrates = bitrateEachSecond(sim)\n",
    "    seconds = sim.duration()\n",
    "\n",
    "    results = np.zeros(seconds)\n",
    "    \n",
    "    # TODO this is insanely inefficient. Should do a sliding window approach...\n",
    "    for sec in range(seconds):\n",
    "        results[sec] = instabilityAtTime(sim, sec)\n",
    "        \n",
    "    return results\n",
    "    "
   ]
  },
  {
   "cell_type": "code",
   "execution_count": null,
   "id": "512ccc73",
   "metadata": {},
   "outputs": [],
   "source": []
  }
 ],
 "metadata": {
  "kernelspec": {
   "display_name": "Python 3 (ipykernel)",
   "language": "python",
   "name": "python3"
  },
  "language_info": {
   "codemirror_mode": {
    "name": "ipython",
    "version": 3
   },
   "file_extension": ".py",
   "mimetype": "text/x-python",
   "name": "python",
   "nbconvert_exporter": "python",
   "pygments_lexer": "ipython3",
   "version": "3.8.7"
  }
 },
 "nbformat": 4,
 "nbformat_minor": 5
}
